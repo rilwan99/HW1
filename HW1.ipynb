{
  "cells": [
    {
      "cell_type": "markdown",
      "metadata": {
        "id": "i03s-zToEjFG"
      },
      "source": [
        "> # Homework 1\n",
        "> This homework contains several coding tasks and Q&A questions.\n",
        ">\n",
        ">>For coding part, please write codes in corresponding cells starts from **YOUR CODES HERE**.\n",
        ">>\n",
        ">>For Q&A, you will see cells with **Answer: HERE**. Please double click those cells and directly write your answer.\n",
        ">>\n",
        ">>For other cells, please directly run the cell.\n",
        ">>\n",
        ">>**Please make sure you have expanded all hidden cells!** You can refer to https://stackoverflow.com/questions/62457417/unhide-all-cells-in-google-colab for more information.\n",
        ">\n",
        ">\n",
        "> You should use Python 3 to do this homework. Python 2 may not be supported. You are encouraged to use Google Colab for this homework.\n",
        ">\n",
        ">\n",
        "> ## Due Date: Feb. 23, 22:00 SG Time\n",
        "> ## Deliverables\n",
        "> Save your notebook `ipynb` file as `StudentID_YourName_HW1.ipynb`, generate an `html` file from `ipynb` file and save as `StudentID_YourName_HW1.html`. Zip your notebook file and html file into a single `zip` file. (Do NOT include the data in your zip file.)\n",
        ">\n",
        "> **Upload the `zip` file as `StudentID_YourName_HW1.zip`.**\n",
        ">\n",
        "> **Please make sure your code is executable.**\n",
        ">\n",
        ">>How to generate an HTML file from your notebook file in Google Colab?  \n",
        ">>Please refer to https://stackoverflow.com/questions/53460051/convert-ipynb-notebook-to-html-in-google-colab\n",
        ">\n",
        "> ## HW1 worths 13 points in the final assessment."
      ]
    },
    {
      "cell_type": "markdown",
      "metadata": {
        "id": "XQIebDrdEjFJ"
      },
      "source": [
        "**STU1**\n",
        "\n",
        "StuID: A0222482L\n",
        "\n",
        "Name: Wong Deshun\n",
        "\n",
        "\n",
        "**STU2**\n",
        "\n",
        "StuID: A0216929U\n",
        "\n",
        "Name: Muhammed Rilwan S/O Mohamed Haniffa"
      ]
    },
    {
      "cell_type": "markdown",
      "metadata": {
        "id": "srKn5Fk_EjFJ"
      },
      "source": [
        "*In compliance with the* [*general message*](https://libguides.nus.edu.sg/new2nus/acadintegrity#s-lib-ctab-22144949-4) *and* [*guidelines*](https://libguides.nus.edu.sg/new2nus/acadintegrity#s-lib-ctab-22144949-5) *on the use of AI tools for academic work from the University, if you use any AI tools for this homework, please fill in the table below. Thank you.*\n",
        "\n",
        "\n",
        "| AI Tool used    |   Prompt and output   |   How the output was used in the assignment   |\n",
        "| ---- | ---- | ---- |\n",
        "|   --   |   --   |   --   |\n",
        "|   --   |   --   |   --   |"
      ]
    },
    {
      "cell_type": "code",
      "execution_count": 157,
      "metadata": {
        "id": "YpH540tvEjFK"
      },
      "outputs": [],
      "source": [
        "# Import packages\n",
        "import numpy as np\n",
        "import pandas as pd\n",
        "import matplotlib.pyplot as plt\n",
        "import seaborn as sns\n",
        "\n",
        "from sklearn.feature_selection import VarianceThreshold, SelectKBest, RFE\n",
        "from sklearn.linear_model import LogisticRegression\n",
        "from sklearn.metrics import f1_score, precision_score, recall_score, classification_report, confusion_matrix\n",
        "from sklearn.metrics import roc_curve, auc, accuracy_score, mean_squared_error\n",
        "from sklearn.model_selection import train_test_split, KFold, cross_val_score\n",
        "from sklearn.preprocessing import StandardScaler, OneHotEncoder\n",
        "\n",
        "# Please refer to\n",
        "# https://scikit-learn.org/stable/\n",
        "# for more information\n",
        "\n",
        "from scipy.stats import pearsonr\n",
        "# Please refer to\n",
        "# https://docs.scipy.org/doc/scipy/reference/generated/scipy.stats.pearsonr.html\n",
        "# for more information\n",
        "\n",
        "# Disable warnings\n",
        "import warnings\n",
        "warnings.filterwarnings('ignore')\n"
      ]
    },
    {
      "cell_type": "code",
      "execution_count": 158,
      "metadata": {
        "id": "9RuPDpt4EjFL"
      },
      "outputs": [],
      "source": [
        "# To fix random seeds (Note that you may still get slightly different results.)\n",
        "np.random.seed(12)"
      ]
    },
    {
      "cell_type": "code",
      "execution_count": 159,
      "metadata": {
        "colab": {
          "base_uri": "https://localhost:8080/"
        },
        "id": "E5bkvH4fEjFL",
        "outputId": "5445e55a-def8-4690-a9e1-cc08f1fbb159"
      },
      "outputs": [
        {
          "output_type": "stream",
          "name": "stdout",
          "text": [
            "Drive already mounted at /content/drive; to attempt to forcibly remount, call drive.mount(\"/content/drive\", force_remount=True).\n",
            "/content/drive/My Drive/IS4303\n",
            "col_list.csv  loan_2024.csv\n"
          ]
        }
      ],
      "source": [
        "# Connect your Google Drive to your Colab file\n",
        "from google.colab import drive\n",
        "drive.mount('/content/drive')\n",
        "\n",
        "%cd /content/drive/My Drive/IS4303\n",
        "! ls\n"
      ]
    },
    {
      "cell_type": "markdown",
      "metadata": {
        "id": "V5hLQzgeEjFL"
      },
      "source": [
        "# Data Input & EDA"
      ]
    },
    {
      "cell_type": "code",
      "execution_count": 129,
      "metadata": {
        "id": "GzOYWvA8EjFM"
      },
      "outputs": [],
      "source": [
        "# Input the data loan_2024.csv by pd.read_csv as 'data'\n",
        "# Input the column names col_list.csv by pd.read_csv as 'col_list'\n",
        "# Please avoid opening the data CSV file by Microsoft Excel\n",
        "# as it may cause some issues with the format.\n",
        "# You can always download a new copy from CANVAS\n",
        "# if you have already opened it with Excel.\n",
        "# The description of features are in the 'Feature Description.xlsx'\n",
        "\n",
        "data = pd.read_csv('loan_2024.csv')\n",
        "col_list = pd.read_csv('col_list.csv')\n"
      ]
    },
    {
      "cell_type": "code",
      "execution_count": 130,
      "metadata": {
        "colab": {
          "base_uri": "https://localhost:8080/"
        },
        "id": "FiOpZh6YEjFM",
        "outputId": "14fa1edc-9773-4f44-e4af-fee7a6296cac"
      },
      "outputs": [
        {
          "output_type": "stream",
          "name": "stdout",
          "text": [
            "1    94756\n",
            "0     5018\n",
            "Name: good_bad, dtype: int64\n"
          ]
        }
      ],
      "source": [
        "# We use the column 'good_bad' as the target variable,\n",
        "# 1 indicates good loans, 0 indicates bad loans\n",
        "# We use the rest of the columns as the features (except for 'LoanStatus')\n",
        "target_list = ['good_bad']\n",
        "feature_list = [i for i in col_list['col_list'].values if i not in ['LoanStatus']]\n",
        "\n",
        "print(data['good_bad'].value_counts())"
      ]
    },
    {
      "cell_type": "markdown",
      "metadata": {
        "id": "nAoLxRN9EjFM"
      },
      "source": [
        "How many loans in the dataset are the good ones? (0.5 points)"
      ]
    },
    {
      "cell_type": "markdown",
      "metadata": {
        "id": "MVEPqMNSEjFN"
      },
      "source": [
        "Answer HERE: 94756 loans in the dataset are good loans."
      ]
    },
    {
      "cell_type": "code",
      "execution_count": 131,
      "metadata": {
        "id": "KfxRU9rMEjFN"
      },
      "outputs": [],
      "source": [
        "# Use this cell for the Q&A if necessary\n"
      ]
    },
    {
      "cell_type": "code",
      "execution_count": 132,
      "metadata": {
        "id": "8KAwBcKtEjFN"
      },
      "outputs": [],
      "source": [
        "# Create dataset from raw data\n",
        "X = data[feature_list]\n",
        "y = data[target_list]"
      ]
    },
    {
      "cell_type": "code",
      "execution_count": 133,
      "metadata": {
        "colab": {
          "base_uri": "https://localhost:8080/"
        },
        "id": "M48dcChlEjFN",
        "outputId": "ae76b0a1-37a4-4bc0-d540-65d082c70bd2"
      },
      "outputs": [
        {
          "output_type": "stream",
          "name": "stdout",
          "text": [
            "(69841, 28) (29933, 28) (69841, 1) (29933, 1)\n"
          ]
        }
      ],
      "source": [
        "# Split data into train and test\n",
        "X_train, X_test, y_train, y_test = train_test_split(X, y, test_size=0.3, random_state=42)\n",
        "print(X_train.shape, X_test.shape, y_train.shape, y_test.shape)"
      ]
    },
    {
      "cell_type": "code",
      "execution_count": 134,
      "metadata": {
        "id": "SkDwSakvEjFN"
      },
      "outputs": [],
      "source": [
        "# Reset index of X_train, X_test, y_train, y_test\n",
        "X_train = X_train.reset_index(drop=True)\n",
        "X_test = X_test.reset_index(drop=True)\n",
        "y_train = y_train.reset_index(drop=True)\n",
        "y_test = y_test.reset_index(drop=True)"
      ]
    },
    {
      "cell_type": "markdown",
      "metadata": {
        "id": "RFqvnRUpEjFN"
      },
      "source": [
        "Why do we do the split here? (0.5 points)"
      ]
    },
    {
      "cell_type": "markdown",
      "metadata": {
        "id": "Wh-2oXn1EjFN"
      },
      "source": [
        "Answer HERE: By splitting the data into training and testing data set, we can use one subset of data to train your model, and another subset to test how well the model works on new and unseen data. This way, you can avoid overfitting, which occurs when the model learns too much from the training data and fails to generalize to new data."
      ]
    },
    {
      "cell_type": "markdown",
      "metadata": {
        "id": "SpzXk67CEjFN"
      },
      "source": [
        "### Data Type & Handle Missing Values"
      ]
    },
    {
      "cell_type": "code",
      "execution_count": 135,
      "metadata": {
        "colab": {
          "base_uri": "https://localhost:8080/"
        },
        "id": "LeJbdR6AEjFO",
        "outputId": "c7e14497-68f9-4aca-eb0a-f06874475f2d"
      },
      "outputs": [
        {
          "output_type": "stream",
          "name": "stdout",
          "text": [
            "Term                                    int64\n",
            "BorrowerAPR                           float64\n",
            "BorrowerRate                          float64\n",
            "LenderYield                           float64\n",
            "Occupation                             object\n",
            "IsBorrowerHomeowner                      bool\n",
            "CreditScoreRangeLower                 float64\n",
            "CreditScoreRangeUpper                 float64\n",
            "CurrentCreditLines                    float64\n",
            "OpenCreditLines                       float64\n",
            "TotalCreditLinespast7years            float64\n",
            "OpenRevolvingAccounts                   int64\n",
            "OpenRevolvingMonthlyPayment           float64\n",
            "InquiriesLast6Months                  float64\n",
            "TotalInquiries                        float64\n",
            "CurrentDelinquencies                  float64\n",
            "AmountDelinquent                      float64\n",
            "DelinquenciesLast7Years               float64\n",
            "PublicRecordsLast10Years              float64\n",
            "PublicRecordsLast12Months             float64\n",
            "RevolvingCreditBalance                float64\n",
            "BankcardUtilization                   float64\n",
            "AvailableBankcardCredit               float64\n",
            "TotalTrades                           float64\n",
            "TradesNeverDelinquent (percentage)    float64\n",
            "TradesOpenedLast6Months               float64\n",
            "DebtToIncomeRatio                     float64\n",
            "StatedMonthlyIncome                   float64\n",
            "dtype: object\n"
          ]
        }
      ],
      "source": [
        "# print the type of each feature in X_train,\n",
        "# you will find that one feature is categorical (i.e., object type),\n",
        "# and one feature is binary (i.e., bool type)\n",
        "print(X_train.dtypes)\n"
      ]
    },
    {
      "cell_type": "code",
      "execution_count": 136,
      "metadata": {
        "colab": {
          "base_uri": "https://localhost:8080/"
        },
        "id": "ai6-L21hEjFO",
        "outputId": "fed2e3be-4286-4f84-9ae6-d2cc4c87dbd9"
      },
      "outputs": [
        {
          "output_type": "stream",
          "name": "stdout",
          "text": [
            "Term                                     0\n",
            "BorrowerAPR                             17\n",
            "BorrowerRate                             0\n",
            "LenderYield                              0\n",
            "Occupation                            2275\n",
            "IsBorrowerHomeowner                      0\n",
            "CreditScoreRangeLower                  389\n",
            "CreditScoreRangeUpper                  389\n",
            "CurrentCreditLines                    4379\n",
            "OpenCreditLines                       4379\n",
            "TotalCreditLinespast7years             449\n",
            "OpenRevolvingAccounts                    0\n",
            "OpenRevolvingMonthlyPayment              0\n",
            "InquiriesLast6Months                   449\n",
            "TotalInquiries                         714\n",
            "CurrentDelinquencies                   449\n",
            "AmountDelinquent                      4392\n",
            "DelinquenciesLast7Years                607\n",
            "PublicRecordsLast10Years               449\n",
            "PublicRecordsLast12Months             4379\n",
            "RevolvingCreditBalance                4379\n",
            "BankcardUtilization                   4379\n",
            "AvailableBankcardCredit               4340\n",
            "TotalTrades                           4340\n",
            "TradesNeverDelinquent (percentage)    4340\n",
            "TradesOpenedLast6Months               4340\n",
            "DebtToIncomeRatio                     5023\n",
            "StatedMonthlyIncome                      0\n",
            "dtype: int64\n",
            "Term                                     0\n",
            "BorrowerAPR                              8\n",
            "BorrowerRate                             0\n",
            "LenderYield                              0\n",
            "Occupation                            1008\n",
            "IsBorrowerHomeowner                      0\n",
            "CreditScoreRangeLower                  153\n",
            "CreditScoreRangeUpper                  153\n",
            "CurrentCreditLines                    1880\n",
            "OpenCreditLines                       1880\n",
            "TotalCreditLinespast7years             171\n",
            "OpenRevolvingAccounts                    0\n",
            "OpenRevolvingMonthlyPayment              0\n",
            "InquiriesLast6Months                   171\n",
            "TotalInquiries                         315\n",
            "CurrentDelinquencies                   171\n",
            "AmountDelinquent                      1883\n",
            "DelinquenciesLast7Years                260\n",
            "PublicRecordsLast10Years               171\n",
            "PublicRecordsLast12Months             1880\n",
            "RevolvingCreditBalance                1880\n",
            "BankcardUtilization                   1880\n",
            "AvailableBankcardCredit               1873\n",
            "TotalTrades                           1873\n",
            "TradesNeverDelinquent (percentage)    1873\n",
            "TradesOpenedLast6Months               1873\n",
            "DebtToIncomeRatio                     2075\n",
            "StatedMonthlyIncome                      0\n",
            "dtype: int64\n"
          ]
        }
      ],
      "source": [
        "# Check the missing values in X_train and X_test\n",
        "print(X_train.isnull().sum())\n",
        "print(X_test.isnull().sum())"
      ]
    },
    {
      "cell_type": "code",
      "execution_count": 137,
      "metadata": {
        "id": "Pt6TCsi2EjFO"
      },
      "outputs": [],
      "source": [
        "# For NaN's in the categorical feature, fill them with 'Other'\n",
        "X_train['Occupation'] = X_train['Occupation'].fillna('Other')\n",
        "X_test['Occupation'] = X_test['Occupation'].fillna('Other')"
      ]
    },
    {
      "cell_type": "code",
      "execution_count": 138,
      "metadata": {
        "id": "8WBlNShKEjFO"
      },
      "outputs": [],
      "source": [
        "# Given X_train and X_test, (0.5 + 0.5 points)\n",
        "# for each feature (column) with missing values,\n",
        "# if this feature is bool type,\n",
        "# fill the missing values with **mode** values based on the occupation group he/she belongs to\n",
        "# if this feature is numerical type,\n",
        "# fill the missing values with **mean** values based on the occupation group he/she belongs to\n",
        "\n",
        "# X_train\n",
        "# YOUR CODES HERE\n",
        "for column in X_train.columns:\n",
        "  if X_train[column].dtype == 'bool':\n",
        "    X_train[column] = X_train.groupby('Occupation')[column].apply(lambda x: x.fillna(x.mode()[0] if not x.mode().empty else \"Other\"))\n",
        "  elif X_train[column].dtype == 'float64' or X_train[column].dtype == 'int64':\n",
        "    X_train[column] = X_train.groupby('Occupation')[column].apply(lambda x: x.fillna(x.mean()))\n",
        "\n",
        "# X_test\n",
        "# YOUR CODES HERE\n",
        "for column in X_test.columns:\n",
        "  if X_test[column].dtype == 'bool':\n",
        "    X_test[column] = X_test.groupby('Occupation')[column].apply(lambda x: x.fillna(x.mode()[0] if not x.mode().empty else \"Other\"))\n",
        "  elif X_test[column].dtype == 'float64' or X_test[column].dtype == 'int64':\n",
        "    X_test[column] = X_test.groupby('Occupation')[column].apply(lambda x: x.fillna(x.mean()))"
      ]
    },
    {
      "cell_type": "code",
      "execution_count": 139,
      "metadata": {
        "colab": {
          "base_uri": "https://localhost:8080/"
        },
        "id": "wRNdXWYoEjFO",
        "outputId": "0b693b20-2b1d-4395-b471-dbb58e99b694"
      },
      "outputs": [
        {
          "output_type": "stream",
          "name": "stdout",
          "text": [
            "Term                                  0\n",
            "BorrowerAPR                           0\n",
            "BorrowerRate                          0\n",
            "LenderYield                           0\n",
            "Occupation                            0\n",
            "IsBorrowerHomeowner                   0\n",
            "CreditScoreRangeLower                 0\n",
            "CreditScoreRangeUpper                 0\n",
            "CurrentCreditLines                    0\n",
            "OpenCreditLines                       0\n",
            "TotalCreditLinespast7years            0\n",
            "OpenRevolvingAccounts                 0\n",
            "OpenRevolvingMonthlyPayment           0\n",
            "InquiriesLast6Months                  0\n",
            "TotalInquiries                        0\n",
            "CurrentDelinquencies                  0\n",
            "AmountDelinquent                      0\n",
            "DelinquenciesLast7Years               0\n",
            "PublicRecordsLast10Years              0\n",
            "PublicRecordsLast12Months             0\n",
            "RevolvingCreditBalance                0\n",
            "BankcardUtilization                   0\n",
            "AvailableBankcardCredit               0\n",
            "TotalTrades                           0\n",
            "TradesNeverDelinquent (percentage)    0\n",
            "TradesOpenedLast6Months               0\n",
            "DebtToIncomeRatio                     0\n",
            "StatedMonthlyIncome                   0\n",
            "dtype: int64\n",
            "Term                                  0\n",
            "BorrowerAPR                           0\n",
            "BorrowerRate                          0\n",
            "LenderYield                           0\n",
            "Occupation                            0\n",
            "IsBorrowerHomeowner                   0\n",
            "CreditScoreRangeLower                 0\n",
            "CreditScoreRangeUpper                 0\n",
            "CurrentCreditLines                    0\n",
            "OpenCreditLines                       0\n",
            "TotalCreditLinespast7years            0\n",
            "OpenRevolvingAccounts                 0\n",
            "OpenRevolvingMonthlyPayment           0\n",
            "InquiriesLast6Months                  0\n",
            "TotalInquiries                        0\n",
            "CurrentDelinquencies                  0\n",
            "AmountDelinquent                      0\n",
            "DelinquenciesLast7Years               0\n",
            "PublicRecordsLast10Years              0\n",
            "PublicRecordsLast12Months             0\n",
            "RevolvingCreditBalance                0\n",
            "BankcardUtilization                   0\n",
            "AvailableBankcardCredit               0\n",
            "TotalTrades                           0\n",
            "TradesNeverDelinquent (percentage)    0\n",
            "TradesOpenedLast6Months               0\n",
            "DebtToIncomeRatio                     0\n",
            "StatedMonthlyIncome                   0\n",
            "dtype: int64\n"
          ]
        }
      ],
      "source": [
        "# Check again the missing values in X_train and X_test (should be all 0's now)\n",
        "print(X_train.isnull().sum())\n",
        "print(X_test.isnull().sum())"
      ]
    },
    {
      "cell_type": "markdown",
      "metadata": {
        "id": "FYNt3Se-EjFO"
      },
      "source": [
        "### Outlier Detection"
      ]
    },
    {
      "cell_type": "code",
      "execution_count": 140,
      "metadata": {
        "colab": {
          "base_uri": "https://localhost:8080/",
          "height": 0
        },
        "id": "-RjWqJcgEjFO",
        "outputId": "17d748e1-2e90-4a90-85da-be0e92bb7a42"
      },
      "outputs": [
        {
          "output_type": "display_data",
          "data": {
            "text/plain": [
              "<Figure size 640x480 with 1 Axes>"
            ],
            "image/png": "[encoded data removed]"
          },
          "metadata": {}
        }
      ],
      "source": [
        "# Detect outliers in X_train['BorrowerRate'] by boxplot\n",
        "plt.boxplot(X_train['BorrowerRate'])\n",
        "plt.show()\n"
      ]
    },
    {
      "cell_type": "markdown",
      "metadata": {
        "id": "y4MEyHbiEjFO"
      },
      "source": [
        "Do you think there are outliers in the feature 'BorrowerRate'? Why? (0.5 points)"
      ]
    },
    {
      "cell_type": "markdown",
      "metadata": {
        "id": "CeqwZ9GfEjFO"
      },
      "source": [
        "Answer HERE: Yes there are outliers in the feature 'BorrowerRate', it is represented by points that fall outside of the whiskers. In the boxplot, there are several points above the upper whisker, which indicates that these values are outliers in the context of the 'BorrowerRate' distribution."
      ]
    },
    {
      "cell_type": "markdown",
      "metadata": {
        "id": "UlR66YhKEjFO"
      },
      "source": [
        "# Data Preprocessing"
      ]
    },
    {
      "cell_type": "code",
      "execution_count": 141,
      "metadata": {
        "colab": {
          "base_uri": "https://localhost:8080/"
        },
        "id": "82jpLkj5EjFO",
        "outputId": "b1ddad0f-b933-465c-9f3c-03a0e6d27d4d"
      },
      "outputs": [
        {
          "output_type": "stream",
          "name": "stdout",
          "text": [
            "(69841, 26) (69841, 1) (29933, 26) (29933, 1)\n"
          ]
        }
      ],
      "source": [
        "# Only select some features (i.e., except for 'Occupation', 'IsBorrowerHomeowner')\n",
        "\n",
        "X_train_nmr = X_train.drop(['Occupation', 'IsBorrowerHomeowner'], axis=1)\n",
        "X_test_nmr = X_test.drop(['Occupation', 'IsBorrowerHomeowner'], axis=1)\n",
        "print(X_train_nmr.shape, y_train.shape, X_test_nmr.shape, y_test.shape)"
      ]
    },
    {
      "cell_type": "code",
      "execution_count": 142,
      "metadata": {
        "id": "lm4PhBV_EjFO"
      },
      "outputs": [],
      "source": [
        "# Feature preprocessing by StandardScaler (0.5 + 0.5 points)\n",
        "# Reference: https://scikit-learn.org/stable/modules/generated/sklearn.preprocessing.StandardScaler.html\n",
        "# USE scaler = StandardScaler(), scaler.fit_transform(...), scaler.transform(...)\n",
        "# YOUR CODES HERE\n",
        "\n",
        "scaler = StandardScaler()\n",
        "X_train_nmr = scaler.fit_transform(X_train_nmr)\n",
        "X_test_nmr = scaler.transform(X_test_nmr)\n",
        "\n"
      ]
    },
    {
      "cell_type": "markdown",
      "metadata": {
        "id": "YQ6-ZCL1EjFO"
      },
      "source": [
        "## Feature Selection"
      ]
    },
    {
      "cell_type": "code",
      "execution_count": 143,
      "metadata": {
        "id": "c2P2NOCJEjFO"
      },
      "outputs": [],
      "source": [
        "# Strategy 1: VarianceThreshold. The training and testing data after this step will be **X_train1, y_train, X_test1, y_test**.\n",
        "# https://scikit-learn.org/stable/modules/generated/sklearn.feature_selection.VarianceThreshold.html\n",
        "\n",
        "from sklearn.feature_selection import VarianceThreshold\n",
        "sel = VarianceThreshold(threshold=0.16)\n",
        "X_train1 = sel.fit_transform(X_train_nmr)\n",
        "X_test1 = sel.transform(X_test_nmr)\n"
      ]
    },
    {
      "cell_type": "code",
      "execution_count": 144,
      "metadata": {
        "id": "G9UgHGqlEjFP"
      },
      "outputs": [],
      "source": [
        "# Strategy 2: SelectKBest. The training and testing data after this step will be **X_train2, y_train, X_test2, y_test**.\n",
        "# https://scikit-learn.org/stable/modules/generated/sklearn.feature_selection.SelectKBest.html\n",
        "\n",
        "from sklearn.feature_selection import SelectKBest, f_classif\n",
        "sel = SelectKBest(f_classif, k=10)\n",
        "\n",
        "X_train2 = sel.fit_transform(X_train_nmr, y_train)\n",
        "X_test2 = sel.transform(X_test_nmr)\n"
      ]
    },
    {
      "cell_type": "code",
      "execution_count": 145,
      "metadata": {
        "id": "1QO-7Xi0EjFP"
      },
      "outputs": [],
      "source": [
        "# Strategy 3: RFE. The training and testing data after this step will be **X_train3, y_train, X_test3, y_test**.\n",
        "# https://scikit-learn.org/stable/modules/generated/sklearn.feature_selection.RFE.html\n",
        "\n",
        "from sklearn.feature_selection import RFE\n",
        "from sklearn.linear_model import LogisticRegression\n",
        "sel = RFE(LogisticRegression(max_iter=10000), n_features_to_select=10)\n",
        "X_train3 = sel.fit_transform(X_train_nmr, y_train)\n",
        "X_test3 = sel.transform(X_test_nmr)\n"
      ]
    },
    {
      "cell_type": "code",
      "execution_count": 146,
      "metadata": {
        "colab": {
          "base_uri": "https://localhost:8080/"
        },
        "id": "9kx01MbmEjFP",
        "outputId": "96a2d879-797a-46d8-e75e-d851429cea6f"
      },
      "outputs": [
        {
          "output_type": "stream",
          "name": "stdout",
          "text": [
            "(69841, 28) (29933, 28) (69841, 1) (29933, 1)\n",
            "(69841, 26) (29933, 26) (69841, 1) (29933, 1)\n",
            "(69841, 10) (29933, 10) (69841, 1) (29933, 1)\n",
            "(69841, 10) (29933, 10) (69841, 1) (29933, 1)\n"
          ]
        }
      ],
      "source": [
        "# Run this cell\n",
        "print(X_train.shape, X_test.shape, y_train.shape, y_test.shape)\n",
        "print(X_train1.shape, X_test1.shape, y_train.shape, y_test.shape)\n",
        "print(X_train2.shape, X_test2.shape, y_train.shape, y_test.shape)\n",
        "print(X_train3.shape, X_test3.shape, y_train.shape, y_test.shape)"
      ]
    },
    {
      "cell_type": "markdown",
      "metadata": {
        "id": "pOR97H6uEjFP"
      },
      "source": [
        "Explain the difference between X_train, X_train1, X_train2, and X_train3. (0.5 points)"
      ]
    },
    {
      "cell_type": "markdown",
      "metadata": {
        "id": "KMuFLxVLEjFP"
      },
      "source": [
        "Answer HERE: X_train is the orignal training dataset with 28 features, with no feature selection or scaling has been applied to the dataset yet.\n",
        "X_train1 uses Variance Threshold as a feature selection method that removes all features whose variance does not meet some threshold (in this case, 0.16). This has reduced the number of features from 28 to 26, signifying that two features had a variance lower than the threshold and were removed.\n",
        "X_train2 uses 'SelectKBest' which selects the top k features that have the highest scores with the f_classif function, which computes the ANOVA F-value between each feature and the target variable. Since k=10 was specified, the feature space was reduced from 28 to 10, keeping only the top 10 features with the highest scores.\n",
        "X_train3 uses RFE (Recursive Feature Elimination) with a LogisticRegression estimator to X_train_nmr. RFE recursively removes features and builds a model on the features that remain. It uses the model accuracy to identify which features (and combination of features) contribute the most to predicting the target variable. Since n_features_to_select=10 was specified, it reduced the feature set to the top 10 features deemed most important by the LogisticRegression model."
      ]
    },
    {
      "cell_type": "markdown",
      "metadata": {
        "id": "AZPdrmwcEjFP"
      },
      "source": [
        "# Logistic Regression\n",
        "Reference: https://scikit-learn.org/stable/modules/generated/sklearn.linear_model.LogisticRegression.html"
      ]
    },
    {
      "cell_type": "markdown",
      "metadata": {
        "id": "3sDmKfJiEjFP"
      },
      "source": [
        "## Model Training"
      ]
    },
    {
      "cell_type": "code",
      "execution_count": 147,
      "metadata": {
        "id": "puFqudslEjFX"
      },
      "outputs": [],
      "source": [
        "# Setup default model parameters\n",
        "model_setup={'fit_intercept': True, 'random_state': 42,\n",
        "             'max_iter':10000, 'solver': 'lbfgs', 'penalty': 'none'}"
      ]
    },
    {
      "cell_type": "markdown",
      "metadata": {
        "id": "1X9xIOtoEjFX"
      },
      "source": [
        "Create a model and fit with training data X_train1, y_train (0.5 points)"
      ]
    },
    {
      "cell_type": "code",
      "execution_count": 148,
      "metadata": {
        "id": "UQ9llC5XEjFX"
      },
      "outputs": [],
      "source": [
        "# YOUR CODES HERE\n",
        "clf1 = LogisticRegression(**model_setup).fit(X_train1, y_train)\n",
        "\n"
      ]
    },
    {
      "cell_type": "markdown",
      "metadata": {
        "id": "Wsa7Jfn3EjFX"
      },
      "source": [
        "Get predicted results of X_test1 as y_pred1, fitted results of X_train1 as y_pred_train1 (0.5 points)"
      ]
    },
    {
      "cell_type": "code",
      "execution_count": 149,
      "metadata": {
        "id": "PacAzTRREjFX"
      },
      "outputs": [],
      "source": [
        "# YOUR CODES HERE\n",
        "# USE clf1.predict()\n",
        "y_pred1 = clf1.predict(X_test1)\n",
        "y_pred_train1 = clf1.predict(X_train1)\n"
      ]
    },
    {
      "cell_type": "markdown",
      "metadata": {
        "id": "Zx3eIdonEjFX"
      },
      "source": [
        "## Model Evaluation"
      ]
    },
    {
      "cell_type": "markdown",
      "metadata": {
        "id": "hlNGCPBxEjFX"
      },
      "source": [
        "Print the accuracy. (We use **Accuracy** for evaluation in HW1. We will explore more on evaluation metrics in HW2.)"
      ]
    },
    {
      "cell_type": "code",
      "execution_count": 150,
      "metadata": {
        "colab": {
          "base_uri": "https://localhost:8080/"
        },
        "id": "MWgM14RGEjFY",
        "outputId": "ed67546a-9128-44d6-a825-dd35b21f9531"
      },
      "outputs": [
        {
          "output_type": "stream",
          "name": "stdout",
          "text": [
            "Training Accuracy: 0.952477771, Testing Accuracy: 0.951525073\n"
          ]
        }
      ],
      "source": [
        "print(\"Training Accuracy: {:10.9f}, Testing Accuracy: {:10.9f}\".format(accuracy_score(y_train, y_pred_train1),\n",
        "                                  accuracy_score(y_test, y_pred1)))"
      ]
    },
    {
      "cell_type": "markdown",
      "metadata": {
        "id": "kaSiLZfAEjFY"
      },
      "source": [
        "## Model Selection"
      ]
    },
    {
      "cell_type": "markdown",
      "metadata": {
        "id": "6dPcBY37EjFY"
      },
      "source": [
        "Now that you have learned how to build a Logistic Regression Model, you will need to build 2 additional models by training data X_train2, and X_train3 and report the accuracy. ((0.5+0.5)+(0.5+0.5) points)"
      ]
    },
    {
      "cell_type": "code",
      "execution_count": 151,
      "metadata": {
        "colab": {
          "base_uri": "https://localhost:8080/"
        },
        "id": "zj6AL9cVEjFY",
        "outputId": "82199382-a9fe-43b4-fdf1-c802baa8175e"
      },
      "outputs": [
        {
          "output_type": "stream",
          "name": "stdout",
          "text": [
            "Training Accuracy: 0.952305952, Testing Accuracy: 0.951324625\n"
          ]
        }
      ],
      "source": [
        "# YOUR CODES HERE\n",
        "# clf2 for X_train2, X_test2, output will be y_pred2, y_pred_train2\n",
        "# ...\n",
        "clf2 = LogisticRegression(**model_setup).fit(X_train2, y_train)\n",
        "y_pred2 = clf2.predict(X_test2)\n",
        "y_pred_train2 = clf2.predict(X_train2)\n",
        "\n",
        "\n",
        "\n",
        "print(\"Training Accuracy: {:10.9f}, Testing Accuracy: {:10.9f}\".format(accuracy_score(y_train, y_pred_train2),\n",
        "                                  accuracy_score(y_test, y_pred2)))"
      ]
    },
    {
      "cell_type": "code",
      "execution_count": 152,
      "metadata": {
        "colab": {
          "base_uri": "https://localhost:8080/"
        },
        "id": "3kxI1Qj8EjFY",
        "outputId": "42c2b4a2-b2bb-446c-9c8f-4ec43ee29a2d"
      },
      "outputs": [
        {
          "output_type": "stream",
          "name": "stdout",
          "text": [
            "Training Accuracy: 0.952005269, Testing Accuracy: 0.951424849\n"
          ]
        }
      ],
      "source": [
        "# YOUR CODES HERE\n",
        "# clf3 for X_train3, X_test3, output will be y_pred3, y_pred_train3\n",
        "# ...\n",
        "clf3 = LogisticRegression(**model_setup).fit(X_train3, y_train)\n",
        "y_pred3 = clf3.predict(X_test3)\n",
        "y_pred_train3 = clf3.predict(X_train3)\n",
        "\n",
        "\n",
        "print(\"Training Accuracy: {:10.9f}, Testing Accuracy: {:10.9f}\".format(accuracy_score(y_train, y_pred_train3),\n",
        "                                    accuracy_score(y_test, y_pred3)))"
      ]
    },
    {
      "cell_type": "markdown",
      "metadata": {
        "id": "up3Ia_N3EjFY"
      },
      "source": [
        "Among X_train, X_train1, X_train2, and X_train3, which one will produce better accuracy score? Why? (0.5 points)"
      ]
    },
    {
      "cell_type": "markdown",
      "metadata": {
        "id": "FDXFTOmJEjFY"
      },
      "source": [
        "Answer HERE: X_train3 will produce the best accuracy score as is based on recursive feature elimination, which is a more sophisticated method that not only considers individual feature importance but also the combination of features. Hence, it potentially offer a better generalization to unseen data despite the similar accuracy on the given test set."
      ]
    },
    {
      "cell_type": "markdown",
      "metadata": {
        "id": "O-wxW9eFEjFY"
      },
      "source": [
        "## Incorporate other features\n",
        "\n",
        "Next, we incorporate other features we dropped earlier (i.e., 'Occupation' and 'IsBorrowerHomeowner')"
      ]
    },
    {
      "cell_type": "code",
      "execution_count": 153,
      "metadata": {
        "colab": {
          "base_uri": "https://localhost:8080/"
        },
        "id": "IOOlHKmiEjFY",
        "outputId": "3bcc02b3-56a3-4aa5-e903-ace5c75df45a"
      },
      "outputs": [
        {
          "output_type": "stream",
          "name": "stdout",
          "text": [
            "(69841, 28) (69841, 1) (29933, 28) (29933, 1)\n"
          ]
        }
      ],
      "source": [
        "# Create X_train4, X_test4, y_train, y_test based on X_train1,\n",
        "# Add 'Occupation', 'IsBorrowerHomeowner'\n",
        "X_train4 = pd.DataFrame(X_train1)\n",
        "X_test4 = pd.DataFrame(X_test1)\n",
        "X_train4['Occupation'] = X_train['Occupation']\n",
        "X_test4['Occupation'] = X_test['Occupation']\n",
        "\n",
        "X_train4['IsBorrowerHomeowner'] = X_train['IsBorrowerHomeowner'].copy()\n",
        "X_test4['IsBorrowerHomeowner'] = X_test['IsBorrowerHomeowner'].copy()\n",
        "\n",
        "print(X_train4.shape, y_train.shape, X_test4.shape, y_test.shape)"
      ]
    },
    {
      "cell_type": "markdown",
      "metadata": {
        "id": "T4X4r_bcEjFY"
      },
      "source": [
        "### Feature Encoding for categorical features\n",
        "\n",
        "For feature 'Occupation', we will use one-hot encoding. (0.5+0.5 points)"
      ]
    },
    {
      "cell_type": "code",
      "execution_count": 154,
      "metadata": {
        "colab": {
          "base_uri": "https://localhost:8080/"
        },
        "id": "otO-F_R-EjFY",
        "outputId": "e3a6efec-52e6-4363-fcec-3958bb029c93"
      },
      "outputs": [
        {
          "output_type": "stream",
          "name": "stdout",
          "text": [
            "[[0. 0. 0. ... 0. 0. 0.]\n",
            " [0. 0. 0. ... 0. 0. 0.]\n",
            " [0. 0. 0. ... 0. 0. 0.]\n",
            " ...\n",
            " [0. 0. 0. ... 0. 0. 0.]\n",
            " [0. 0. 0. ... 0. 0. 0.]\n",
            " [0. 0. 0. ... 0. 0. 0.]]\n"
          ]
        }
      ],
      "source": [
        "# Preprocess for 'Occupation' by one-hot encoding\n",
        "# Reference: https://scikit-learn.org/stable/modules/generated/sklearn.preprocessing.OneHotEncoder.html\n",
        "# USE OneHotEncoder(sparse=False)\n",
        "# Input is X_train4[['Occupation']], and X_test4[['Occupation']]\n",
        "# Output is X_train4_onehot, and X_test4_onehot\n",
        "# YOUR CODES HERE\n",
        "ohe = OneHotEncoder(sparse=False)\n",
        "X_train4_onehot = ohe.fit_transform(X_train4[['Occupation']])\n",
        "X_test4_onehot = ohe.transform(X_test4[['Occupation']])\n",
        "\n",
        "print(X_train4_onehot)"
      ]
    },
    {
      "cell_type": "code",
      "execution_count": 155,
      "metadata": {
        "id": "sDEXLhOaEjFY"
      },
      "outputs": [],
      "source": [
        "# Run this cell\n",
        "# add one-hot encoded columns to X_train4, X_test4\n",
        "X_train4 = pd.concat([X_train4, pd.DataFrame(X_train4_onehot)], axis=1)\n",
        "X_test4 = pd.concat([X_test4, pd.DataFrame(X_test4_onehot)], axis=1)\n",
        "\n",
        "\n",
        "# drop occupation\n",
        "X_train4.drop(columns=['Occupation'], inplace=True)\n",
        "X_test4.drop(columns=['Occupation'], inplace=True)\n",
        "\n",
        "# preprocess for 'IsBorrowerHomeowner'\n",
        "X_train4['IsBorrowerHomeowner'] = X_train4['IsBorrowerHomeowner'].astype(int)\n",
        "X_test4['IsBorrowerHomeowner'] = X_test4['IsBorrowerHomeowner'].astype(int)\n"
      ]
    },
    {
      "cell_type": "markdown",
      "metadata": {
        "id": "Nd3wBqqpEjFZ"
      },
      "source": [
        "Train a Logistic Regression model with X_train4, and report the accuracy. (0.5 points)"
      ]
    },
    {
      "cell_type": "code",
      "execution_count": 156,
      "metadata": {
        "colab": {
          "base_uri": "https://localhost:8080/",
          "height": 407
        },
        "id": "wXZrqw7KEjFZ",
        "outputId": "89b1f5d5-c34a-48db-f7f3-3b54a8c143b5"
      },
      "outputs": [
        {
          "output_type": "error",
          "ename": "TypeError",
          "evalue": "Feature names are only supported if all input features have string names, but your input has ['int', 'str'] as feature name / column name types. If you want feature names to be stored and validated, you must convert them all to strings, by using X.columns = X.columns.astype(str) for example. Otherwise you can remove feature / column names from your input data, or convert them all to a non-string data type.",
          "traceback": [
            "\u001b[0;31m---------------------------------------------------------------------------\u001b[0m",
            "\u001b[0;31mTypeError\u001b[0m                                 Traceback (most recent call last)",
            "\u001b[0;32m<ipython-input-156-d74546fd9c34>\u001b[0m in \u001b[0;36m<cell line: 4>\u001b[0;34m()\u001b[0m\n\u001b[1;32m      2\u001b[0m \u001b[0;31m# clf4 for X_train4, X_test4, output will be y_pred4, y_pred_train4\u001b[0m\u001b[0;34m\u001b[0m\u001b[0;34m\u001b[0m\u001b[0m\n\u001b[1;32m      3\u001b[0m \u001b[0;31m# ...\u001b[0m\u001b[0;34m\u001b[0m\u001b[0;34m\u001b[0m\u001b[0m\n\u001b[0;32m----> 4\u001b[0;31m \u001b[0mclf4\u001b[0m \u001b[0;34m=\u001b[0m \u001b[0mLogisticRegression\u001b[0m\u001b[0;34m(\u001b[0m\u001b[0;34m**\u001b[0m\u001b[0mmodel_setup\u001b[0m\u001b[0;34m)\u001b[0m\u001b[0;34m.\u001b[0m\u001b[0mfit\u001b[0m\u001b[0;34m(\u001b[0m\u001b[0mX_train4\u001b[0m\u001b[0;34m,\u001b[0m \u001b[0my_train\u001b[0m\u001b[0;34m)\u001b[0m\u001b[0;34m\u001b[0m\u001b[0;34m\u001b[0m\u001b[0m\n\u001b[0m\u001b[1;32m      5\u001b[0m \u001b[0my_pred4\u001b[0m \u001b[0;34m=\u001b[0m \u001b[0mclf4\u001b[0m\u001b[0;34m.\u001b[0m\u001b[0mpredict\u001b[0m\u001b[0;34m(\u001b[0m\u001b[0mX_test4\u001b[0m\u001b[0;34m)\u001b[0m\u001b[0;34m\u001b[0m\u001b[0;34m\u001b[0m\u001b[0m\n\u001b[1;32m      6\u001b[0m \u001b[0my_pred_train4\u001b[0m \u001b[0;34m=\u001b[0m \u001b[0mclf4\u001b[0m\u001b[0;34m.\u001b[0m\u001b[0mpredict\u001b[0m\u001b[0;34m(\u001b[0m\u001b[0mX_train4\u001b[0m\u001b[0;34m)\u001b[0m\u001b[0;34m\u001b[0m\u001b[0;34m\u001b[0m\u001b[0m\n",
            "\u001b[0;32m/usr/local/lib/python3.10/dist-packages/sklearn/linear_model/_logistic.py\u001b[0m in \u001b[0;36mfit\u001b[0;34m(self, X, y, sample_weight)\u001b[0m\n\u001b[1;32m   1194\u001b[0m             \u001b[0m_dtype\u001b[0m \u001b[0;34m=\u001b[0m \u001b[0;34m[\u001b[0m\u001b[0mnp\u001b[0m\u001b[0;34m.\u001b[0m\u001b[0mfloat64\u001b[0m\u001b[0;34m,\u001b[0m \u001b[0mnp\u001b[0m\u001b[0;34m.\u001b[0m\u001b[0mfloat32\u001b[0m\u001b[0;34m]\u001b[0m\u001b[0;34m\u001b[0m\u001b[0;34m\u001b[0m\u001b[0m\n\u001b[1;32m   1195\u001b[0m \u001b[0;34m\u001b[0m\u001b[0m\n\u001b[0;32m-> 1196\u001b[0;31m         X, y = self._validate_data(\n\u001b[0m\u001b[1;32m   1197\u001b[0m             \u001b[0mX\u001b[0m\u001b[0;34m,\u001b[0m\u001b[0;34m\u001b[0m\u001b[0;34m\u001b[0m\u001b[0m\n\u001b[1;32m   1198\u001b[0m             \u001b[0my\u001b[0m\u001b[0;34m,\u001b[0m\u001b[0;34m\u001b[0m\u001b[0;34m\u001b[0m\u001b[0m\n",
            "\u001b[0;32m/usr/local/lib/python3.10/dist-packages/sklearn/base.py\u001b[0m in \u001b[0;36m_validate_data\u001b[0;34m(self, X, y, reset, validate_separately, **check_params)\u001b[0m\n\u001b[1;32m    546\u001b[0m             \u001b[0mvalidated\u001b[0m\u001b[0;34m.\u001b[0m\u001b[0;34m\u001b[0m\u001b[0;34m\u001b[0m\u001b[0m\n\u001b[1;32m    547\u001b[0m         \"\"\"\n\u001b[0;32m--> 548\u001b[0;31m         \u001b[0mself\u001b[0m\u001b[0;34m.\u001b[0m\u001b[0m_check_feature_names\u001b[0m\u001b[0;34m(\u001b[0m\u001b[0mX\u001b[0m\u001b[0;34m,\u001b[0m \u001b[0mreset\u001b[0m\u001b[0;34m=\u001b[0m\u001b[0mreset\u001b[0m\u001b[0;34m)\u001b[0m\u001b[0;34m\u001b[0m\u001b[0;34m\u001b[0m\u001b[0m\n\u001b[0m\u001b[1;32m    549\u001b[0m \u001b[0;34m\u001b[0m\u001b[0m\n\u001b[1;32m    550\u001b[0m         \u001b[0;32mif\u001b[0m \u001b[0my\u001b[0m \u001b[0;32mis\u001b[0m \u001b[0;32mNone\u001b[0m \u001b[0;32mand\u001b[0m \u001b[0mself\u001b[0m\u001b[0;34m.\u001b[0m\u001b[0m_get_tags\u001b[0m\u001b[0;34m(\u001b[0m\u001b[0;34m)\u001b[0m\u001b[0;34m[\u001b[0m\u001b[0;34m\"requires_y\"\u001b[0m\u001b[0;34m]\u001b[0m\u001b[0;34m:\u001b[0m\u001b[0;34m\u001b[0m\u001b[0;34m\u001b[0m\u001b[0m\n",
            "\u001b[0;32m/usr/local/lib/python3.10/dist-packages/sklearn/base.py\u001b[0m in \u001b[0;36m_check_feature_names\u001b[0;34m(self, X, reset)\u001b[0m\n\u001b[1;32m    413\u001b[0m \u001b[0;34m\u001b[0m\u001b[0m\n\u001b[1;32m    414\u001b[0m         \u001b[0;32mif\u001b[0m \u001b[0mreset\u001b[0m\u001b[0;34m:\u001b[0m\u001b[0;34m\u001b[0m\u001b[0;34m\u001b[0m\u001b[0m\n\u001b[0;32m--> 415\u001b[0;31m             \u001b[0mfeature_names_in\u001b[0m \u001b[0;34m=\u001b[0m \u001b[0m_get_feature_names\u001b[0m\u001b[0;34m(\u001b[0m\u001b[0mX\u001b[0m\u001b[0;34m)\u001b[0m\u001b[0;34m\u001b[0m\u001b[0;34m\u001b[0m\u001b[0m\n\u001b[0m\u001b[1;32m    416\u001b[0m             \u001b[0;32mif\u001b[0m \u001b[0mfeature_names_in\u001b[0m \u001b[0;32mis\u001b[0m \u001b[0;32mnot\u001b[0m \u001b[0;32mNone\u001b[0m\u001b[0;34m:\u001b[0m\u001b[0;34m\u001b[0m\u001b[0;34m\u001b[0m\u001b[0m\n\u001b[1;32m    417\u001b[0m                 \u001b[0mself\u001b[0m\u001b[0;34m.\u001b[0m\u001b[0mfeature_names_in_\u001b[0m \u001b[0;34m=\u001b[0m \u001b[0mfeature_names_in\u001b[0m\u001b[0;34m\u001b[0m\u001b[0;34m\u001b[0m\u001b[0m\n",
            "\u001b[0;32m/usr/local/lib/python3.10/dist-packages/sklearn/utils/validation.py\u001b[0m in \u001b[0;36m_get_feature_names\u001b[0;34m(X)\u001b[0m\n\u001b[1;32m   1901\u001b[0m     \u001b[0;31m# mixed type of string and non-string is not supported\u001b[0m\u001b[0;34m\u001b[0m\u001b[0;34m\u001b[0m\u001b[0m\n\u001b[1;32m   1902\u001b[0m     \u001b[0;32mif\u001b[0m \u001b[0mlen\u001b[0m\u001b[0;34m(\u001b[0m\u001b[0mtypes\u001b[0m\u001b[0;34m)\u001b[0m \u001b[0;34m>\u001b[0m \u001b[0;36m1\u001b[0m \u001b[0;32mand\u001b[0m \u001b[0;34m\"str\"\u001b[0m \u001b[0;32min\u001b[0m \u001b[0mtypes\u001b[0m\u001b[0;34m:\u001b[0m\u001b[0;34m\u001b[0m\u001b[0;34m\u001b[0m\u001b[0m\n\u001b[0;32m-> 1903\u001b[0;31m         raise TypeError(\n\u001b[0m\u001b[1;32m   1904\u001b[0m             \u001b[0;34m\"Feature names are only supported if all input features have string names, \"\u001b[0m\u001b[0;34m\u001b[0m\u001b[0;34m\u001b[0m\u001b[0m\n\u001b[1;32m   1905\u001b[0m             \u001b[0;34mf\"but your input has {types} as feature name / column name types. \"\u001b[0m\u001b[0;34m\u001b[0m\u001b[0;34m\u001b[0m\u001b[0m\n",
            "\u001b[0;31mTypeError\u001b[0m: Feature names are only supported if all input features have string names, but your input has ['int', 'str'] as feature name / column name types. If you want feature names to be stored and validated, you must convert them all to strings, by using X.columns = X.columns.astype(str) for example. Otherwise you can remove feature / column names from your input data, or convert them all to a non-string data type."
          ]
        }
      ],
      "source": [
        "# YOUR CODES HERE\n",
        "# clf4 for X_train4, X_test4, output will be y_pred4, y_pred_train4\n",
        "# ...\n",
        "clf4 = LogisticRegression(**model_setup).fit(X_train4, y_train)\n",
        "y_pred4 = clf4.predict(X_test4)\n",
        "y_pred_train4 = clf4.predict(X_train4)\n",
        "\n",
        "\n",
        "\n",
        "print(\"Training Accuracy: {:10.9f}, Testing Accuracy: {:10.9f}\".format(accuracy_score(y_train, y_pred_train4),\n",
        "                                    accuracy_score(y_test, y_pred4)))"
      ]
    },
    {
      "cell_type": "markdown",
      "metadata": {
        "id": "A65Lnz9xEjFZ"
      },
      "source": [
        "## Regularization\n",
        "\n",
        "**From now on, we will use X_train4, y_train, X_test4, y_test.**"
      ]
    },
    {
      "cell_type": "code",
      "execution_count": null,
      "metadata": {
        "id": "eImeQPf1EjFZ"
      },
      "outputs": [],
      "source": [
        "# Setup default model parameters\n",
        "model_setup={'fit_intercept': True, 'random_state': 42,\n",
        "             'max_iter':10000, 'solver': 'lbfgs', 'penalty': 'none'}"
      ]
    },
    {
      "cell_type": "markdown",
      "metadata": {
        "id": "Trf_zwLKEjFZ"
      },
      "source": [
        "Strategy 1: Lasso Regularization (0.5 points)"
      ]
    },
    {
      "cell_type": "code",
      "execution_count": null,
      "metadata": {
        "id": "kfcBB_4mEjFZ"
      },
      "outputs": [],
      "source": [
        "# Run this cell for Lasso Regularization parameter setting\n",
        "model_setup['penalty'] = 'l1'\n",
        "model_setup['solver'] = 'liblinear'"
      ]
    },
    {
      "cell_type": "code",
      "execution_count": null,
      "metadata": {
        "id": "BBoYORI8EjFZ"
      },
      "outputs": [],
      "source": [
        "# Fit a new model with model_setup and produce the accuracy score\n",
        "# YOUR CODES HERE\n",
        "# ...\n",
        "\n",
        "\n",
        "\n",
        "print(\"Training Accuracy: {:10.9f}, Testing Accuracy: {:10.9f}\".format(accuracy_score(y_train, y_pred_train),\n",
        "                                  accuracy_score(y_test, y_pred)))"
      ]
    },
    {
      "cell_type": "markdown",
      "metadata": {
        "id": "zj-xQ-3lEjFZ"
      },
      "source": [
        "Strategy 2: Ridge Regularization (0.5 points)"
      ]
    },
    {
      "cell_type": "code",
      "execution_count": null,
      "metadata": {
        "id": "02SVYv27EjFZ"
      },
      "outputs": [],
      "source": [
        "# Run this cell for Ridge Regularization parameter setting\n",
        "model_setup['penalty'] = 'l2'\n",
        "model_setup['solver'] = 'liblinear'"
      ]
    },
    {
      "cell_type": "code",
      "execution_count": null,
      "metadata": {
        "id": "CF9qA_I0EjFZ"
      },
      "outputs": [],
      "source": [
        "# Fit a new model with model_setup and produce the accuracy score\n",
        "# YOUR CODES HERE\n",
        "# ...\n",
        "\n",
        "\n",
        "\n",
        "print(\"Training Accuracy: {:10.9f}, Testing Accuracy: {:10.9f}\".format(accuracy_score(y_train, y_pred_train),\n",
        "                                  accuracy_score(y_test, y_pred)))"
      ]
    },
    {
      "cell_type": "markdown",
      "metadata": {
        "id": "OUMBq2u2EjFZ"
      },
      "source": [
        "Describe the difference between Lasso and Ridge Regularization. Describe any observations you find in the results above. (0.5 + 0.5 points)\n",
        "\n",
        "Answer HERE:"
      ]
    },
    {
      "cell_type": "markdown",
      "metadata": {
        "id": "4jdLqh3GEjFZ"
      },
      "source": [
        "## Cross Validation\n",
        "\n",
        "Reference: https://scikit-learn.org/stable/modules/generated/sklearn.model_selection.cross_val_score.html\n",
        "\n",
        "**We continue to use X_train4, y_train, X_test4, y_test.**"
      ]
    },
    {
      "cell_type": "code",
      "execution_count": null,
      "metadata": {
        "id": "Imv7LsEbEjFa"
      },
      "outputs": [],
      "source": [
        "# Cross Validation Setup: 5-Fold CV\n",
        "k = 5\n",
        "kf = KFold(n_splits=k, shuffle=True, random_state=42)\n",
        "\n",
        "# Setup default model parameters\n",
        "model_setup={'fit_intercept': True, 'random_state': 42,\n",
        "             'max_iter':10000, 'solver': 'liblinear', 'penalty': 'l2'}"
      ]
    },
    {
      "cell_type": "markdown",
      "metadata": {
        "id": "hnmaN4VXEjFa"
      },
      "source": [
        "Build **Two** Logistic Regression Models, one with Lasso Regularization, another one with Ridge Regularization. (0.5+0.5 points)\n"
      ]
    },
    {
      "cell_type": "code",
      "execution_count": null,
      "metadata": {
        "id": "VSP35c9xEjFa"
      },
      "outputs": [],
      "source": [
        "# Please use the following settings for two models respectively.\n",
        "\n",
        "# # For Lasso Regularization parameter setting\n",
        "# model_setup['penalty'] = 'l1'\n",
        "\n",
        "# # For Ridge Regularization parameter setting\n",
        "# model_setup['penalty'] = 'l2'\n",
        "\n",
        "# Build your model by model = LogisticRegression(**model_setup)\n",
        "# Build the Cross Validation for each model by\n",
        "# clf1 and clf2 = cross_val_score(model, X_train4, y_train, cv = kf, scoring = 'accuracy')\n",
        "\n",
        "# YOUR CODES HERE\n",
        "\n",
        "\n",
        "\n",
        "\n",
        "\n",
        "\n",
        "\n",
        "\n"
      ]
    },
    {
      "cell_type": "code",
      "execution_count": null,
      "metadata": {
        "id": "GKGQQeTZEjFa"
      },
      "outputs": [],
      "source": [
        "# Evaluate two models\n",
        "# USE clf.mean()\n",
        "print(clf1.mean())\n",
        "print(clf2.mean())\n"
      ]
    },
    {
      "cell_type": "markdown",
      "metadata": {
        "id": "A6-s9uoBEjFa"
      },
      "source": [
        "Describe the mechanism of Cross Validation. Describe any observations you find in the CV experiments above. (0.5+0.5 points)"
      ]
    },
    {
      "cell_type": "markdown",
      "metadata": {
        "id": "h5DfcSFiEjFa"
      },
      "source": [
        "Answer HERE:"
      ]
    },
    {
      "cell_type": "code",
      "execution_count": null,
      "metadata": {
        "id": "AcrBsjWoEjFa"
      },
      "outputs": [],
      "source": []
    }
  ],
  "metadata": {
    "kernelspec": {
      "display_name": "Python 3 (ipykernel)",
      "language": "python",
      "name": "python3"
    },
    "language_info": {
      "codemirror_mode": {
        "name": "ipython",
        "version": 3
      },
      "file_extension": ".py",
      "mimetype": "text/x-python",
      "name": "python",
      "nbconvert_exporter": "python",
      "pygments_lexer": "ipython3",
      "version": "3.9.7"
    },
    "toc": {
      "base_numbering": 1,
      "nav_menu": {},
      "number_sections": true,
      "sideBar": true,
      "skip_h1_title": false,
      "title_cell": "Table of Contents",
      "title_sidebar": "Contents",
      "toc_cell": false,
      "toc_position": {
        "height": "calc(100% - 180px)",
        "left": "10px",
        "top": "150px",
        "width": "264px"
      },
      "toc_section_display": true,
      "toc_window_display": true
    },
    "vscode": {
      "interpreter": {
        "hash": "5c0be0fd32d0e193c100993c074e0d6a11e85b0d8b25b1435eed09c1f2a1a974"
      }
    },
    "colab": {
      "provenance": [],
      "collapsed_sections": [
        "V5hLQzgeEjFL",
        "UlR66YhKEjFO",
        "3sDmKfJiEjFP",
        "Zx3eIdonEjFX",
        "kaSiLZfAEjFY"
      ]
    }
  },
  "nbformat": 4,
  "nbformat_minor": 0
}